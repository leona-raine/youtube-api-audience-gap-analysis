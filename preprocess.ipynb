{
 "cells": [
  {
   "cell_type": "code",
   "execution_count": 6,
   "id": "161d0e30",
   "metadata": {},
   "outputs": [
    {
     "name": "stdout",
     "output_type": "stream",
     "text": [
      "      video_id                                              title  \\\n",
      "0  ISSjUbAVJa0                         Okay fine, I'll try Skyrim   \n",
      "1  ST5mY0HE_7o  SKYRIM Full Movie 2025: Oblivion | FullHDvideo...   \n",
      "2  V2OoTDk9JiI  These NPCs don’t know they’re talking to the D...   \n",
      "3  2AbEyr8nIcA  \"THAT\" Jumpscared Me 💀 #skyrim #skyrimannivers...   \n",
      "4  B-oe9ypNSb0  New Skyrim Mods You Should Try Before Starting...   \n",
      "\n",
      "                                         description  \\\n",
      "0  Skyrim.. the game everyone says is their favor...   \n",
      "1  Skyrim Full Movie 2025: Oblivion | FullHDvideo...   \n",
      "2                                                NaN   \n",
      "3  #Skyrim #Anniversary #skyrimae \\n\\nThe Elder S...   \n",
      "4  🔗 https://ene.ba/MasterCheesey\\n🎮 https://ene....   \n",
      "\n",
      "                 channel_id    channel_title  category_id    views   likes  \\\n",
      "0  UCO9US9tHbfyTD3eGJEbD1Ig             Bind           22  2238569   75971   \n",
      "1  UCpiLRBQAIDhzuxnDi9Oar4A  FullHDvideos4me            1  2246428   12513   \n",
      "2  UCaHAsSOlU3yuYxohUrMVtBA     Skooma Sippa           20  4716091  161780   \n",
      "3  UCnVbLunqMpiik_WEA3dSVaw        Salmagros           20  4069162  106650   \n",
      "4  UCjpUc0ZOzwHYkFIs3U4Z9fg   Master Cheesey           20     3562     288   \n",
      "\n",
      "   comments  duration          published_at keyword  \n",
      "0      7808  PT38M23S  2025-04-14T20:00:58Z  skyrim  \n",
      "1       236   PT2H28S  2025-05-03T09:00:38Z  skyrim  \n",
      "2      3087     PT36S  2025-08-28T17:14:52Z  skyrim  \n",
      "3      3046      PT7S  2024-09-09T06:02:45Z  skyrim  \n",
      "4        33  PT11M33S  2025-09-11T16:00:18Z  skyrim  \n"
     ]
    }
   ],
   "source": [
    "import pandas as pd\n",
    "from collections import Counter\n",
    "import re\n",
    "from sklearn.feature_extraction.text import ENGLISH_STOP_WORDS\n",
    "\n",
    "df = pd.read_csv(\"ytraw.csv\")\n",
    "print(df.head())"
   ]
  },
  {
   "cell_type": "code",
   "execution_count": 3,
   "id": "30989421",
   "metadata": {},
   "outputs": [
    {
     "name": "stdout",
     "output_type": "stream",
     "text": [
      "<class 'pandas.core.frame.DataFrame'>\n",
      "RangeIndex: 300 entries, 0 to 299\n",
      "Data columns (total 12 columns):\n",
      " #   Column         Non-Null Count  Dtype \n",
      "---  ------         --------------  ----- \n",
      " 0   video_id       300 non-null    object\n",
      " 1   title          300 non-null    object\n",
      " 2   description    265 non-null    object\n",
      " 3   channel_id     300 non-null    object\n",
      " 4   channel_title  300 non-null    object\n",
      " 5   category_id    300 non-null    int64 \n",
      " 6   views          300 non-null    int64 \n",
      " 7   likes          300 non-null    int64 \n",
      " 8   comments       300 non-null    int64 \n",
      " 9   duration       300 non-null    object\n",
      " 10  published_at   300 non-null    object\n",
      " 11  keyword        300 non-null    object\n",
      "dtypes: int64(4), object(8)\n",
      "memory usage: 28.3+ KB\n",
      "None\n"
     ]
    }
   ],
   "source": [
    "print(df.info())"
   ]
  },
  {
   "cell_type": "code",
   "execution_count": 4,
   "id": "3340b06e",
   "metadata": {},
   "outputs": [
    {
     "name": "stdout",
     "output_type": "stream",
     "text": [
      "       category_id         views         likes      comments\n",
      "count   300.000000  3.000000e+02  3.000000e+02    300.000000\n",
      "mean     19.676667  3.457251e+06  9.100903e+04   1117.073333\n",
      "std       3.711879  8.753740e+06  1.975987e+05   2412.616779\n",
      "min       1.000000  8.900000e+01  0.000000e+00      0.000000\n",
      "25%      20.000000  1.770268e+05  5.986250e+03    128.500000\n",
      "50%      20.000000  8.810815e+05  2.567850e+04    416.500000\n",
      "75%      20.000000  2.635452e+06  8.419175e+04   1079.250000\n",
      "max      27.000000  8.307708e+07  2.039668e+06  28234.000000\n"
     ]
    }
   ],
   "source": [
    "print(df.describe())"
   ]
  },
  {
   "cell_type": "code",
   "execution_count": null,
   "id": "82f9848d",
   "metadata": {},
   "outputs": [
    {
     "name": "stdout",
     "output_type": "stream",
     "text": [
      "      video_id                                              title  \\\n",
      "0  ISSjUbAVJa0                         Okay fine, I'll try Skyrim   \n",
      "1  ST5mY0HE_7o  SKYRIM Full Movie 2025: Oblivion | FullHDvideo...   \n",
      "2  V2OoTDk9JiI  These NPCs don’t know they’re talking to the D...   \n",
      "3  2AbEyr8nIcA  \"THAT\" Jumpscared Me 💀 #skyrim #skyrimannivers...   \n",
      "4  B-oe9ypNSb0  New Skyrim Mods You Should Try Before Starting...   \n",
      "\n",
      "                                         description  \\\n",
      "0  Skyrim.. the game everyone says is their favor...   \n",
      "1  Skyrim Full Movie 2025: Oblivion | FullHDvideo...   \n",
      "2                                                NaN   \n",
      "3  #Skyrim #Anniversary #skyrimae \\n\\nThe Elder S...   \n",
      "4  🔗 https://ene.ba/MasterCheesey\\n🎮 https://ene....   \n",
      "\n",
      "                 channel_id    channel_title  category_id    views   likes  \\\n",
      "0  UCO9US9tHbfyTD3eGJEbD1Ig             Bind           22  2238569   75971   \n",
      "1  UCpiLRBQAIDhzuxnDi9Oar4A  FullHDvideos4me            1  2246428   12513   \n",
      "2  UCaHAsSOlU3yuYxohUrMVtBA     Skooma Sippa           20  4716091  161780   \n",
      "3  UCnVbLunqMpiik_WEA3dSVaw        Salmagros           20  4069162  106650   \n",
      "4  UCjpUc0ZOzwHYkFIs3U4Z9fg   Master Cheesey           20     3562     288   \n",
      "\n",
      "   comments  duration          published_at keyword  \n",
      "0      7808  PT38M23S  2025-04-14T20:00:58Z  skyrim  \n",
      "1       236   PT2H28S  2025-05-03T09:00:38Z  skyrim  \n",
      "2      3087     PT36S  2025-08-28T17:14:52Z  skyrim  \n",
      "3      3046      PT7S  2024-09-09T06:02:45Z  skyrim  \n",
      "4        33  PT11M33S  2025-09-11T16:00:18Z  skyrim  \n",
      "<class 'pandas.core.frame.DataFrame'>\n",
      "RangeIndex: 300 entries, 0 to 299\n",
      "Data columns (total 12 columns):\n",
      " #   Column         Non-Null Count  Dtype \n",
      "---  ------         --------------  ----- \n",
      " 0   video_id       300 non-null    object\n",
      " 1   title          300 non-null    object\n",
      " 2   description    265 non-null    object\n",
      " 3   channel_id     300 non-null    object\n",
      " 4   channel_title  300 non-null    object\n",
      " 5   category_id    300 non-null    int64 \n",
      " 6   views          300 non-null    int64 \n",
      " 7   likes          300 non-null    int64 \n",
      " 8   comments       300 non-null    int64 \n",
      " 9   duration       300 non-null    object\n",
      " 10  published_at   300 non-null    object\n",
      " 11  keyword        300 non-null    object\n",
      "dtypes: int64(4), object(8)\n",
      "memory usage: 28.3+ KB\n",
      "None\n",
      "       category_id         views         likes      comments\n",
      "count   300.000000  3.000000e+02  3.000000e+02    300.000000\n",
      "mean     19.676667  3.457251e+06  9.100903e+04   1117.073333\n",
      "std       3.711879  8.753740e+06  1.975987e+05   2412.616779\n",
      "min       1.000000  8.900000e+01  0.000000e+00      0.000000\n",
      "25%      20.000000  1.770268e+05  5.986250e+03    128.500000\n",
      "50%      20.000000  8.810815e+05  2.567850e+04    416.500000\n",
      "75%      20.000000  2.635452e+06  8.419175e+04   1079.250000\n",
      "max      27.000000  8.307708e+07  2.039668e+06  28234.000000\n"
     ]
    }
   ],
   "source": []
  },
  {
   "cell_type": "code",
   "execution_count": null,
   "id": "261a8687",
   "metadata": {},
   "outputs": [],
   "source": []
  }
 ],
 "metadata": {
  "kernelspec": {
   "display_name": "Python 3",
   "language": "python",
   "name": "python3"
  },
  "language_info": {
   "codemirror_mode": {
    "name": "ipython",
    "version": 3
   },
   "file_extension": ".py",
   "mimetype": "text/x-python",
   "name": "python",
   "nbconvert_exporter": "python",
   "pygments_lexer": "ipython3",
   "version": "3.13.5"
  }
 },
 "nbformat": 4,
 "nbformat_minor": 5
}
