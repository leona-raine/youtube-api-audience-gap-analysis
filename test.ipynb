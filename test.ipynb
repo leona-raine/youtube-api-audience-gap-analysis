{
 "cells": [
  {
   "cell_type": "code",
   "execution_count": 1,
   "id": "8fd1d6f4",
   "metadata": {},
   "outputs": [],
   "source": [
    "# for data collection and extraction\n",
    "from googleapiclient.discovery import build\n",
    "import pandas as pd\n",
    "import time\n",
    "import os\n",
    "import streamlit as st\n",
    "from dotenv import load_dotenv\n",
    "\n",
    "load_dotenv()\n",
    "api_key = os.getenv(\"YOUTUBE_API_KEY\")\n",
    "\n",
    "def get_youtube_client():\n",
    "    return build(\"youtube\", \"v3\", developerKey=api_key)\n",
    "\n",
    "youtube = get_youtube_client()"
   ]
  },
  {
   "cell_type": "code",
   "execution_count": 2,
   "id": "5a9f0d97",
   "metadata": {},
   "outputs": [],
   "source": [
    "# full stats for a yt vid\n",
    "def get_vid_stats(video_id):\n",
    "    stats_req = youtube.videos().list(\n",
    "        part=\"statistics,contentDetails,snippet\", id=video_id\n",
    "    )\n",
    "    stats_item = stats_req.execute()[\"items\"][0]\n",
    "\n",
    "    statistics = stats_item[\"statistics\"]\n",
    "    snippet = stats_item[\"snippet\"]\n",
    "    content_details = stats_item[\"contentDetails\"]\n",
    "\n",
    "    return {\n",
    "        \"video_id\": video_id,\n",
    "        \"title\": snippet.get(\"title\"),\n",
    "        \"description\": snippet.get(\"description\"),\n",
    "        \"channel_id\": snippet.get(\"channelId\"),\n",
    "        \"channel_title\": snippet.get(\"channelTitle\"),\n",
    "        \"category_id\": snippet.get(\"categoryId\"),\n",
    "        \"views\": int(statistics.get(\"viewCount\", 0)),\n",
    "        \"likes\": int(statistics.get(\"likeCount\", 0)),\n",
    "        \"comments\": int(statistics.get(\"commentCount\", 0)),\n",
    "        \"duration\": content_details.get(\"duration\"),\n",
    "        \"published_at\": snippet.get(\"publishedAt\")\n",
    "    }\n",
    "\n",
    "# search vidoes by keyword with date filter\n",
    "def search_videos(query, start_year, max_results=100):\n",
    "    video_data = []\n",
    "    next_page_token = None\n",
    "    collected = 0\n",
    "    published_after = f\"{start_year}-01-01T00:00:00Z\"\n",
    "\n",
    "    while collected < max_results:\n",
    "        request = youtube.search().list(\n",
    "            part=\"snippet\",\n",
    "            q=query,\n",
    "            type=\"video\",\n",
    "            maxResults=min(50, max_results - collected),\n",
    "            pageToken=next_page_token,\n",
    "            publishedAfter=published_after\n",
    "        )\n",
    "        response = request.execute()\n",
    "\n",
    "        for item in response[\"items\"]:\n",
    "            video_id = item[\"id\"][\"videoId\"]\n",
    "            data = get_vid_stats(video_id)\n",
    "            video_data.append(data)\n",
    "            collected += 1\n",
    "            if collected >= max_results:\n",
    "                break\n",
    "\n",
    "        next_page_token = response.get(\"nextPageToken\")\n",
    "        if not next_page_token:\n",
    "            break\n",
    "\n",
    "        time.sleep(1) # quota issues to avoid\n",
    "\n",
    "    return pd.DataFrame(video_data)"
   ]
  },
  {
   "cell_type": "code",
   "execution_count": 1,
   "id": "592c8286",
   "metadata": {},
   "outputs": [],
   "source": [
    "# FOR TESTING ONLY\n",
    "# keyword definition\n",
    "def collect_keyword(keyword, start_year, max_results=100):\n",
    "    print(f\"Collecting videos for keyword: {keyword}\")\n",
    "    df = search_videos(keyword, max_results=max_results, start_year=start_year)\n",
    "    df[\"keyword\"] = keyword\n",
    "    return df"
   ]
  },
  {
   "cell_type": "code",
   "execution_count": null,
   "id": "2d12a5e1",
   "metadata": {},
   "outputs": [],
   "source": [
    "# Main workflow\n",
    "if __name__ == \"__main__\":\n",
    "    # User input\n",
    "    keyword = input(\"Enter keyword: \").strip()\n",
    "    start_year = int(input(\"Enter start year (YYYY): \"))\n",
    "    # for real-time data\n",
    "    df = collect_keyword(keyword, start_year=start_year, max_results=100)"
   ]
  }
 ],
 "metadata": {
  "kernelspec": {
   "display_name": "Python 3",
   "language": "python",
   "name": "python3"
  },
  "language_info": {
   "codemirror_mode": {
    "name": "ipython",
    "version": 3
   },
   "file_extension": ".py",
   "mimetype": "text/x-python",
   "name": "python",
   "nbconvert_exporter": "python",
   "pygments_lexer": "ipython3",
   "version": "3.13.5"
  }
 },
 "nbformat": 4,
 "nbformat_minor": 5
}
