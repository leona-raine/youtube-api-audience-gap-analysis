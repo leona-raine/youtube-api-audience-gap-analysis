{
 "cells": [
  {
   "cell_type": "code",
   "execution_count": null,
   "id": "8fd1d6f4",
   "metadata": {},
   "outputs": [],
   "source": [
    "# for data collection and extraction\n",
    "from googleapiclient.discovery import build\n",
    "import pandas as pd\n",
    "import time\n",
    "import os\n",
    "from dotenv import load_dotenv\n",
    "\n",
    "load_dotenv()\n",
    "api_key = os.getenv(\"YOUTUBE_API_KEY\")\n",
    "\n",
    "def get_youtube_client():\n",
    "    return build(\"youtube\", \"v3\", developerKey=api_key)\n",
    "\n",
    "youtube = get_youtube_client()"
   ]
  },
  {
   "cell_type": "code",
   "execution_count": null,
   "id": "5a9f0d97",
   "metadata": {},
   "outputs": [],
   "source": [
    "# yt stats\n",
    "def get_vid_stats(video_id):\n",
    "    req = youtube.videos().list(\n",
    "        part=\"statistics\",\n",
    "        id=video_id\n",
    "    )\n",
    "    stats_item = stats_req.execute()[\"items\"][0][\"statistics\"]\n",
    "\n",
    "    return {\n",
    "        \"video_id\": video_id,\n",
    "        \"views\": int(stats_item.get(\"viewCount\", 0)),\n",
    "        \"likes\": int(stats_item.get(\"likeCount\", 0)),\n",
    "        \"comments\": int(stats_item.get(\"commentCount\", 0))\n",
    "    }"
   ]
  },
  {
   "cell_type": "code",
   "execution_count": 3,
   "id": "592c8286",
   "metadata": {},
   "outputs": [],
   "source": [
    "# keyword search\n",
    "def collect_keyword(keyword, start_year, max_results=100):\n",
    "    print(f\"Collecting numeric stats for: {keyword}\")\n",
    "    df = search_videos(keyword, start_year=start_year, max_results=max_results)\n",
    "    df[\"keyword\"] = keyword\n",
    "\n",
    "    # deriving of metrics\n",
    "    df[\"engagement_rate\"] = (df[\"likes\"] + df[\"comments\"]) / df[\"views\"].replace(0, 1)\n",
    "    df[\"views_per_sub\"] = df[\"views\"] / df[\"subscribers\"].replace(0, 1) \n",
    "\n",
    "    return df"
   ]
  },
  {
   "cell_type": "code",
   "execution_count": null,
   "id": "2d12a5e1",
   "metadata": {},
   "outputs": [],
   "source": [
    "# Main workflow\n",
    "if __name__ == \"__main__\":\n",
    "    # User input\n",
    "    keyword = input(\"Enter keyword: \").strip()\n",
    "    start_year = int(input(\"Enter start year (YYYY): \"))\n",
    "    # for real-time data\n",
    "    df = collect_keyword(keyword, start_year=start_year, max_results=100)\n",
    "    print(df.head())"
   ]
  },
  {
   "cell_type": "code",
   "execution_count": null,
   "id": "ddac29d4",
   "metadata": {},
   "outputs": [],
   "source": []
  }
 ],
 "metadata": {
  "kernelspec": {
   "display_name": "Python 3",
   "language": "python",
   "name": "python3"
  },
  "language_info": {
   "codemirror_mode": {
    "name": "ipython",
    "version": 3
   },
   "file_extension": ".py",
   "mimetype": "text/x-python",
   "name": "python",
   "nbconvert_exporter": "python",
   "pygments_lexer": "ipython3",
   "version": "3.13.5"
  }
 },
 "nbformat": 4,
 "nbformat_minor": 5
}
