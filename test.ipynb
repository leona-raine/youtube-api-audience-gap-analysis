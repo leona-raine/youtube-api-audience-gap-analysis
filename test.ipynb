{
 "cells": [
  {
   "cell_type": "code",
   "execution_count": 1,
   "id": "8fd1d6f4",
   "metadata": {},
   "outputs": [],
   "source": [
    "# for data collection and extraction\n",
    "from googleapiclient.discovery import build\n",
    "import pandas as pd\n",
    "import time\n",
    "import os\n",
    "from dotenv import load_dotenv\n",
    "\n",
    "load_dotenv()\n",
    "api_key = os.getenv(\"YOUTUBE_API_KEY\")\n",
    "\n",
    "def get_youtube_client():\n",
    "    return build(\"youtube\", \"v3\", developerKey=api_key)\n",
    "\n",
    "youtube = get_youtube_client()"
   ]
  },
  {
   "cell_type": "code",
   "execution_count": 2,
   "id": "5a9f0d97",
   "metadata": {},
   "outputs": [],
   "source": [
    "# fetch api multiple yt vid stats simultaneously\n",
    "def get_vid_stats_batch(video_ids):\n",
    "    req = youtube.videos().list(\n",
    "        part=\"statistics\",\n",
    "        id=\",\".join(video_ids)\n",
    "    )\n",
    "    response = req.execute()\n",
    "    data = []\n",
    "    for item in response[\"items\"]:\n",
    "        stats = item[\"statistics\"]\n",
    "        data.append({\n",
    "            data.append({\n",
    "                \"video_id\": item[\"id\"],\n",
    "                \"views\": int(stats.get(\"viewCount\", 0)),\n",
    "                \"likes\": int(stats.get(\"likeCount\", 0)),\n",
    "                \"comments\": int(stats.get(\"commentCount\", 0))\n",
    "            })\n",
    "        })\n",
    "    return data"
   ]
  },
  {
   "cell_type": "code",
   "execution_count": null,
   "id": "cc36fae0",
   "metadata": {},
   "outputs": [],
   "source": [
    "# keyword search yt vid\n",
    "def search_videos(keyword, start_year, max_results=100):\n",
    "    video_data = []\n",
    "    next_page_token = None\n",
    "    collected = 0\n",
    "    published_after = f\"{start_year}-01-01T00:00:00Z\"\n",
    "\n",
    "    while collected < max_results:\n",
    "        request = youtube.search().list(\n",
    "            part=\"id\",\n",
    "            q=keyword,\n",
    "            type=\"video\",\n",
    "            maxResults=min(50, max_results - collected),\n",
    "            pageToken=next_page_token,\n",
    "            publishedAfter=published_after\n",
    "        )\n",
    "        response = request.execute()\n",
    "\n",
    "        video_ids = [item[\"id\"][\"videoId\"] for item in response[\"items\"]] \n",
    "        batch_data = get_vid_stats_batch(video_ids)\n",
    "        video_data.extend(batch_data)\n",
    "\n",
    "        collected += len(video_ids)\n",
    "        next_page_token = response.get(\"nextPageToken\")\n",
    "        if not next_page_token:\n",
    "            break\n",
    "\n",
    "    return pd.DataFrame(video_data)"
   ]
  },
  {
   "cell_type": "code",
   "execution_count": 4,
   "id": "592c8286",
   "metadata": {},
   "outputs": [],
   "source": [
    "# data stats collection + engagement rate\n",
    "def collect_keyword(keyword, start_year, max_results=100):\n",
    "    print(f\"Collecting numeric stats for: {keyword}'...\")\n",
    "    df = search_videos(keyword, start_year=start_year, max_results=max_results)\n",
    "    df[\"keyword\"] = keyword\n",
    "    # feature engineering for quick inspection\n",
    "    df[\"engagement_rate\"] = (df[\"likes\"] + df[\"comment\"]) / df[\"views\"].replace(0, 1) \n",
    "    return df"
   ]
  },
  {
   "cell_type": "code",
   "execution_count": null,
   "id": "2d12a5e1",
   "metadata": {},
   "outputs": [],
   "source": [
    "# Example execution\n",
    "if __name__ == \"__main__\":\n",
    "    # User input\n",
    "    keyword = input(\"Enter keyword: \").strip()\n",
    "    start_year = int(input(\"Enter start year (YYYY): \"))\n",
    "    # for real-time data\n",
    "    df = collect_keyword(keyword, start_year=start_year, max_results=100)\n",
    "    print(df.head())"
   ]
  },
  {
   "cell_type": "code",
   "execution_count": null,
   "id": "ddac29d4",
   "metadata": {},
   "outputs": [],
   "source": []
  }
 ],
 "metadata": {
  "kernelspec": {
   "display_name": "Python 3",
   "language": "python",
   "name": "python3"
  },
  "language_info": {
   "codemirror_mode": {
    "name": "ipython",
    "version": 3
   },
   "file_extension": ".py",
   "mimetype": "text/x-python",
   "name": "python",
   "nbconvert_exporter": "python",
   "pygments_lexer": "ipython3",
   "version": "3.13.5"
  }
 },
 "nbformat": 4,
 "nbformat_minor": 5
}
